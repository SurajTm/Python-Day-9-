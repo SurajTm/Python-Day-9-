{
  "nbformat": 4,
  "nbformat_minor": 0,
  "metadata": {
    "colab": {
      "name": "Untitled7.ipynb",
      "provenance": [],
      "authorship_tag": "ABX9TyOixWPhbxzUMJXnjdP7vQbk",
      "include_colab_link": true
    },
    "kernelspec": {
      "name": "python3",
      "display_name": "Python 3"
    }
  },
  "cells": [
    {
      "cell_type": "markdown",
      "metadata": {
        "id": "view-in-github",
        "colab_type": "text"
      },
      "source": [
        "<a href=\"https://colab.research.google.com/github/SurajTm/Python-Day-9-/blob/master/Untitled7.ipynb\" target=\"_parent\"><img src=\"https://colab.research.google.com/assets/colab-badge.svg\" alt=\"Open In Colab\"/></a>"
      ]
    },
    {
      "cell_type": "markdown",
      "metadata": {
        "id": "JxxtI6wLtuK1",
        "colab_type": "text"
      },
      "source": [
        "Pylint and unittesting\n"
      ]
    },
    {
      "cell_type": "code",
      "metadata": {
        "id": "GVXRPL5TtzLO",
        "colab_type": "code",
        "colab": {
          "base_uri": "https://localhost:8080/",
          "height": 34
        },
        "outputId": "bb488ca9-1cce-46d4-939c-6c37544caaf9"
      },
      "source": [
        "%%writefile prime.py\n",
        " '''writing prime.py file'''\n",
        "def test_prime(num):\n",
        "    '''check prime function'''\n",
        "    for i in range(2, num):\n",
        "      if num % i == 0:\n",
        "        print(num, \"is not prime\")"
      ],
      "execution_count": null,
      "outputs": [
        {
          "output_type": "stream",
          "text": [
            "Overwriting prime.py\n"
          ],
          "name": "stdout"
        }
      ]
    },
    {
      "cell_type": "code",
      "metadata": {
        "id": "Ezqwtlc5uvu3",
        "colab_type": "code",
        "colab": {
          "base_uri": "https://localhost:8080/",
          "height": 34
        },
        "outputId": "84318505-1e73-4f90-8a23-73823371f9d6"
      },
      "source": [
        "%%writefile primee.py\n",
        "import unittest\n",
        "import prime\n",
        "\n",
        "class primenum(unittest.TestCase):\n",
        "  def prime(self,num):\n",
        "    if num > 1:\n",
        "      for i in range(2,num):\n",
        "        if (num % i) == 0:\n",
        "          print(num, \"is not a prime number\")\n",
        "        else:\n",
        "          print(num,\"is not a prime number\")\n",
        "      def ans(self):\n",
        "        prime(5)\n",
        "        result=\"its a prime number\"\n",
        "        self.assertEquals(result,\"is a prime number\")\n",
        "if __name__ =='__main__':\n",
        "    unittest.main()"
      ],
      "execution_count": null,
      "outputs": [
        {
          "output_type": "stream",
          "text": [
            "Overwriting primee.py\n"
          ],
          "name": "stdout"
        }
      ]
    },
    {
      "cell_type": "markdown",
      "metadata": {
        "id": "9PrJmpZEwawv",
        "colab_type": "text"
      },
      "source": [
        "Generator Program"
      ]
    },
    {
      "cell_type": "code",
      "metadata": {
        "id": "JJow1hjZwl1b",
        "colab_type": "code",
        "colab": {
          "base_uri": "https://localhost:8080/",
          "height": 102
        },
        "outputId": "6fa6c485-3076-40bb-a70b-5502624a4f0e"
      },
      "source": [
        "def arms():\n",
        "  for i in range(1,1000):\n",
        "    sum=0\n",
        "    temp=i\n",
        "    while temp>0:\n",
        "      r=temp%10\n",
        "      sum=sum+r**3\n",
        "      temp=temp//10\n",
        "    if sum==i:\n",
        "      yield i\n",
        "for i in arms():\n",
        "  print(\"armstrong number\",i)"
      ],
      "execution_count": null,
      "outputs": [
        {
          "output_type": "stream",
          "text": [
            "armstrong number 1\n",
            "armstrong number 153\n",
            "armstrong number 370\n",
            "armstrong number 371\n",
            "armstrong number 407\n"
          ],
          "name": "stdout"
        }
      ]
    }
  ]
}